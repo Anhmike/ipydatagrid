{
 "cells": [
  {
   "cell_type": "code",
   "execution_count": null,
   "metadata": {},
   "outputs": [],
   "source": [
    "from ipydatagrid import DataGrid, Filter, Sort, TextRenderer, BarRenderer, VegaExpr"
   ]
  },
  {
   "cell_type": "code",
   "execution_count": null,
   "metadata": {},
   "outputs": [],
   "source": [
    "from json import load\n",
    "\n",
    "with open('./cars.json') as fobj:\n",
    "    data = load(fobj)"
   ]
  },
  {
   "cell_type": "code",
   "execution_count": null,
   "metadata": {},
   "outputs": [],
   "source": [
    "from bqplot import LinearScale, ColorScale, OrdinalColorScale, OrdinalScale\n",
    "\n",
    "renderers = {\n",
    "    'Acceleration': BarRenderer(\n",
    "        horizontal_alignment='center',\n",
    "        bar_color=ColorScale(min=0, max=20, scheme='viridis'),\n",
    "        value=LinearScale(min=0, max=20)\n",
    "    ),\n",
    "    'Displacement': TextRenderer(\n",
    "        text_color=ColorScale(min=97, max=455), \n",
    "        font=VegaExpr(\"value > 400 ? '16px sans-serif' : '12px sans-serif'\")\n",
    "    ),\n",
    "    'Horsepower': TextRenderer(\n",
    "        background_color=VegaExpr(\"value < 150 ? 'red' : 'green'\")\n",
    "    ),\n",
    "    'Name': TextRenderer(\n",
    "        background_color=VegaExpr(\"indexof(value, 'chevrolet') !== -1 ? 'green' : 'white'\")\n",
    "    ),\n",
    "    'Origin': TextRenderer(\n",
    "        background_color=OrdinalColorScale(domain=['USA', 'Japan', 'Europe']),\n",
    "        horizontal_alignment=VegaExpr(\"value == 'USA' ? 'right' : 'left'\")\n",
    "    ),\n",
    "    'Year': TextRenderer(background_color='green'),\n",
    "}\n",
    "\n",
    "datagrid = DataGrid(data=data, base_row_size=32, base_column_size=100, renderers=renderers)\n",
    "datagrid"
   ]
  },
  {
   "cell_type": "code",
   "execution_count": null,
   "metadata": {},
   "outputs": [],
   "source": [
    "renderers['Horsepower'].background_color.value = \"value < 150 ? 'orange' : 'blue'\""
   ]
  },
  {
   "cell_type": "code",
   "execution_count": null,
   "metadata": {},
   "outputs": [],
   "source": [
    "datagrid.transform([Filter('Origin', '=', 'Europe'), Sort('Displacement')])"
   ]
  },
  {
   "cell_type": "code",
   "execution_count": null,
   "metadata": {},
   "outputs": [],
   "source": [
    "datagrid.revert()"
   ]
  },
  {
   "cell_type": "code",
   "execution_count": null,
   "metadata": {},
   "outputs": [],
   "source": [
    "datagrid.transform([Filter('Origin', '=', 'USA'), Filter('Acceleration', '<', 13), Sort('Acceleration')])"
   ]
  },
  {
   "cell_type": "markdown",
   "metadata": {},
   "source": [
    "# Perfomance test: A million cells with ipydatagrid"
   ]
  },
  {
   "cell_type": "code",
   "execution_count": null,
   "metadata": {},
   "outputs": [],
   "source": [
    "from random import uniform\n",
    "\n",
    "def create_random_data(n_rows=100, n_columns=100):\n",
    "    data = {'data': [], 'schema': {}}\n",
    "\n",
    "    data['data'] = [[uniform(0, 1) for c in range(n_columns)] for r in range(n_rows)]\n",
    "    data['schema']['fields'] = [{'name': str(c), type:'number'} for c in range(n_columns)]\n",
    "    \n",
    "    return data"
   ]
  },
  {
   "cell_type": "code",
   "execution_count": null,
   "metadata": {},
   "outputs": [],
   "source": [
    "huge_data = create_random_data(1000, 1000)\n",
    "\n",
    "conditional_renderer = VegaExpr(\"value < 0.5 ? '#fc8403' : 'white'\")\n",
    "\n",
    "conditional_huge_datagrid = DataGrid(data=huge_data, default_renderer=TextRenderer(background_color=conditional_renderer))\n",
    "conditional_huge_datagrid"
   ]
  },
  {
   "cell_type": "code",
   "execution_count": null,
   "metadata": {},
   "outputs": [],
   "source": [
    "from ipywidgets import FloatSlider, Dropdown, ColorPicker, HBox\n",
    "\n",
    "operator_dropdown = Dropdown(\n",
    "    options=['<', '>'],\n",
    "    value='<'\n",
    ")\n",
    "reference_slider = FloatSlider(value=0.5, min=0, max=1)\n",
    "output_colorpicker = ColorPicker(\n",
    "    value='#fc8403'\n",
    ")\n",
    "\n",
    "def on_change(*args, **kwargs):\n",
    "    conditional_renderer.value = \"value {operator} {reference} ? '{color}' : 'white'\".format(\n",
    "        operator=operator_dropdown.value,\n",
    "        reference=reference_slider.value,\n",
    "        color=output_colorpicker.value\n",
    "    )\n",
    "\n",
    "operator_dropdown.observe(on_change, 'value')\n",
    "reference_slider.observe(on_change, 'value')\n",
    "output_colorpicker.observe(on_change, 'value')\n",
    "\n",
    "HBox((operator_dropdown, reference_slider, output_colorpicker))"
   ]
  },
  {
   "cell_type": "markdown",
   "metadata": {},
   "source": [
    "## Bar renderer"
   ]
  },
  {
   "cell_type": "code",
   "execution_count": null,
   "metadata": {},
   "outputs": [],
   "source": [
    "from bqplot import LinearScale, ColorScale\n",
    "from ipydatagrid import DataGrid, BarRenderer\n",
    "\n",
    "linear_scale = LinearScale(min=0, max=1)\n",
    "color_scale = ColorScale(min=0, max=1)\n",
    "bar_renderer = BarRenderer(bar_color=color_scale, value=linear_scale, bar_horizontal_alignment='center')\n",
    "\n",
    "huge_datagrid = DataGrid(data=create_random_data(), default_renderer=bar_renderer)"
   ]
  },
  {
   "cell_type": "code",
   "execution_count": null,
   "metadata": {},
   "outputs": [],
   "source": [
    "huge_datagrid"
   ]
  },
  {
   "cell_type": "code",
   "execution_count": null,
   "metadata": {},
   "outputs": [],
   "source": [
    "from ipywidgets import FloatSlider, link\n",
    "\n",
    "slider = FloatSlider(description='Scale: ', value=linear_scale.max, min=0, max=1)\n",
    "link((color_scale, 'min'), (slider, 'value'))\n",
    "link((linear_scale, 'min'), (slider, 'value'))\n",
    "\n",
    "slider"
   ]
  },
  {
   "cell_type": "code",
   "execution_count": null,
   "metadata": {},
   "outputs": [],
   "source": [
    "color_scale.scheme = 'magma'"
   ]
  }
 ],
 "metadata": {
  "kernelspec": {
   "display_name": "Python 3",
   "language": "python",
   "name": "python3"
  },
  "language_info": {
   "codemirror_mode": {
    "name": "ipython",
    "version": 3
   },
   "file_extension": ".py",
   "mimetype": "text/x-python",
   "name": "python",
   "nbconvert_exporter": "python",
   "pygments_lexer": "ipython3",
   "version": "3.7.3"
  }
 },
 "nbformat": 4,
 "nbformat_minor": 4
}
