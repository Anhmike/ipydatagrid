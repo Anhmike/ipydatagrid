{
 "cells": [
  {
   "cell_type": "markdown",
   "metadata": {},
   "source": [
    "# Cell Editing\n",
    "DataGrid cells can be edited using in-place editors built into DataGrid. Editing can be initiated by double clicking on a cell or by starting typing the new value for the cell.\n",
    "\n",
    "DataGrids are not editable by default. Editing can be enabled by setting `editable` property to `True`. Selection enablement is required for editing to work and it is set automatically to `cell` mode if it is `none` when editing is enabled.\n",
    "\n",
    "### Cursor Movement\n",
    "Editing is initiated for the `cursor` cell. Cursor cell is the same as the selected cell if there is a single cell selected. If there are multiple cells / rectangles selected then cursor cell is the cell where the last selection rectangle was started.\n",
    "\n",
    "Cursor can be moved in four directions by using the following keyboard keys.\n",
    "- **Down**: Enter\n",
    "- **Up**: Shift + Enter\n",
    "- **Right**: Tab\n",
    "- **Left**: Shift + Tab\n",
    "\n",
    "Once done with editing a cell, cursor can be moved to next cell based on the keyboard hit following the rules above."
   ]
  },
  {
   "cell_type": "code",
   "execution_count": null,
   "metadata": {
    "scrolled": false
   },
   "outputs": [],
   "source": [
    "from ipydatagrid import DataGrid\n",
    "from json import load\n",
    "\n",
    "with open('./cars.json') as fobj:\n",
    "    data = load(fobj)\n",
    "\n",
    "datagrid = DataGrid(data=data, editable=True)\n",
    "datagrid"
   ]
  },
  {
   "cell_type": "markdown",
   "metadata": {},
   "source": [
    "All grid views are updated simultaneously to reflect cell edit changes."
   ]
  },
  {
   "cell_type": "code",
   "execution_count": null,
   "metadata": {},
   "outputs": [],
   "source": [
    "datagrid"
   ]
  },
  {
   "cell_type": "code",
   "execution_count": null,
   "metadata": {},
   "outputs": [],
   "source": [
    "# keep track of changed cells\n",
    "changed_cells = []"
   ]
  },
  {
   "cell_type": "markdown",
   "metadata": {},
   "source": [
    "Changes to cell values can be tracked by subscribing to `on_cell_change` event as below."
   ]
  },
  {
   "cell_type": "code",
   "execution_count": null,
   "metadata": {},
   "outputs": [],
   "source": [
    "def on_cell_changed(cell):\n",
    "    changed_cells.append({'row': cell['row'], 'column': cell['column_index']})\n",
    "    print(\"Cell at row {row} and column '{column}'({column_index}) changed to {value}\".format(\n",
    "        row=cell['row'], column=cell['column'], column_index=cell['column_index'], value=cell['value']))\n",
    "    "
   ]
  },
  {
   "cell_type": "code",
   "execution_count": null,
   "metadata": {},
   "outputs": [],
   "source": [
    "datagrid.on_cell_change(on_cell_changed)"
   ]
  },
  {
   "cell_type": "markdown",
   "metadata": {},
   "source": [
    "A cell's value can also be changed programmatically by using the DataGrid methods `set_cell_value` and `set_cell_value_by_index`"
   ]
  },
  {
   "cell_type": "code",
   "execution_count": null,
   "metadata": {},
   "outputs": [],
   "source": [
    "datagrid.set_cell_value(\"Cylinders\", 2, 12)"
   ]
  },
  {
   "cell_type": "markdown",
   "metadata": {},
   "source": [
    "Whether new cell values are entered using UI or programmatically, both the DataGrid cell rendering and the underlying python data are updated."
   ]
  },
  {
   "cell_type": "code",
   "execution_count": null,
   "metadata": {},
   "outputs": [],
   "source": [
    "data['data'][2][\"Cylinders\"]"
   ]
  },
  {
   "cell_type": "code",
   "execution_count": null,
   "metadata": {},
   "outputs": [],
   "source": [
    "datagrid.set_cell_value_by_index(1, 3, 16)"
   ]
  },
  {
   "cell_type": "code",
   "execution_count": null,
   "metadata": {},
   "outputs": [],
   "source": [
    "data['data'][3][\"Cylinders\"]"
   ]
  },
  {
   "cell_type": "code",
   "execution_count": null,
   "metadata": {},
   "outputs": [],
   "source": [
    "def select_all_changed_cells():\n",
    "    datagrid.clear_selection()\n",
    "    for cell in changed_cells:\n",
    "        datagrid.select(cell['row'], cell['column'])\n",
    "\n",
    "    return datagrid.selected_cells"
   ]
  },
  {
   "cell_type": "markdown",
   "metadata": {},
   "source": [
    "Show all cells changed using UI or programmatically by selecting them."
   ]
  },
  {
   "cell_type": "code",
   "execution_count": null,
   "metadata": {},
   "outputs": [],
   "source": [
    "select_all_changed_cells()"
   ]
  },
  {
   "cell_type": "code",
   "execution_count": null,
   "metadata": {},
   "outputs": [],
   "source": []
  },
  {
   "cell_type": "code",
   "execution_count": null,
   "metadata": {},
   "outputs": [],
   "source": []
  }
 ],
 "metadata": {
  "kernelspec": {
   "display_name": "Python 3",
   "language": "python",
   "name": "python3"
  },
  "language_info": {
   "codemirror_mode": {
    "name": "ipython",
    "version": 3
   },
   "file_extension": ".py",
   "mimetype": "text/x-python",
   "name": "python",
   "nbconvert_exporter": "python",
   "pygments_lexer": "ipython3",
   "version": "3.7.3"
  }
 },
 "nbformat": 4,
 "nbformat_minor": 2
}
